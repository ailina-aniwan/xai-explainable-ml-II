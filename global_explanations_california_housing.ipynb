{
 "cells": [
  {
   "cell_type": "markdown",
   "metadata": {},
   "source": [
    "# Global Explanations - California Housing\n",
    "\n",
    "**Name:** Aniwan Ailina \n",
    "\n",
    "**Date:** 2025-09-29\n",
    "\n",
    "[![Open In Collab](https://colab.research.google.com/assets/colab-badge.svg)](https://colab.research.google.com/github/ailina-aniwan/xai-explainable-ml-II/global_explanations_california_housing.ipynb)"
   ]
  },
  {
   "cell_type": "markdown",
   "metadata": {},
   "source": [
    "## Dependencies"
   ]
  },
  {
   "cell_type": "code",
   "execution_count": 6,
   "metadata": {},
   "outputs": [
    {
     "name": "stdout",
     "output_type": "stream",
     "text": [
      "Requirement already satisfied: numpy in /opt/miniconda3/lib/python3.12/site-packages (1.26.4)\n",
      "Requirement already satisfied: pandas in /opt/miniconda3/lib/python3.12/site-packages (2.0.3)\n",
      "Requirement already satisfied: scikit-learn in /opt/miniconda3/lib/python3.12/site-packages (1.5.2)\n",
      "Requirement already satisfied: shap in /opt/miniconda3/lib/python3.12/site-packages (0.48.0)\n",
      "Requirement already satisfied: python-dateutil>=2.8.2 in /opt/miniconda3/lib/python3.12/site-packages (from pandas) (2.9.0)\n",
      "Requirement already satisfied: pytz>=2020.1 in /opt/miniconda3/lib/python3.12/site-packages (from pandas) (2024.1)\n",
      "Requirement already satisfied: tzdata>=2022.1 in /opt/miniconda3/lib/python3.12/site-packages (from pandas) (2025.2)\n",
      "Requirement already satisfied: scipy>=1.6.0 in /opt/miniconda3/lib/python3.12/site-packages (from scikit-learn) (1.13.1)\n",
      "Requirement already satisfied: joblib>=1.2.0 in /opt/miniconda3/lib/python3.12/site-packages (from scikit-learn) (1.4.2)\n",
      "Requirement already satisfied: threadpoolctl>=3.1.0 in /opt/miniconda3/lib/python3.12/site-packages (from scikit-learn) (3.5.0)\n",
      "Requirement already satisfied: tqdm>=4.27.0 in /opt/miniconda3/lib/python3.12/site-packages (from shap) (4.66.5)\n",
      "Requirement already satisfied: packaging>20.9 in /opt/miniconda3/lib/python3.12/site-packages (from shap) (24.1)\n",
      "Requirement already satisfied: slicer==0.0.8 in /opt/miniconda3/lib/python3.12/site-packages (from shap) (0.0.8)\n",
      "Requirement already satisfied: numba>=0.54 in /opt/miniconda3/lib/python3.12/site-packages (from shap) (0.60.0)\n",
      "Requirement already satisfied: cloudpickle in /opt/miniconda3/lib/python3.12/site-packages (from shap) (3.1.0)\n",
      "Requirement already satisfied: typing-extensions in /opt/miniconda3/lib/python3.12/site-packages (from shap) (4.12.2)\n",
      "Requirement already satisfied: llvmlite<0.44,>=0.43.0dev0 in /opt/miniconda3/lib/python3.12/site-packages (from numba>=0.54->shap) (0.43.0)\n",
      "Requirement already satisfied: six>=1.5 in /opt/miniconda3/lib/python3.12/site-packages (from python-dateutil>=2.8.2->pandas) (1.16.0)\n",
      "\n",
      "\u001b[1m[\u001b[0m\u001b[34;49mnotice\u001b[0m\u001b[1;39;49m]\u001b[0m\u001b[39;49m A new release of pip is available: \u001b[0m\u001b[31;49m25.1\u001b[0m\u001b[39;49m -> \u001b[0m\u001b[32;49m25.2\u001b[0m\n",
      "\u001b[1m[\u001b[0m\u001b[34;49mnotice\u001b[0m\u001b[1;39;49m]\u001b[0m\u001b[39;49m To update, run: \u001b[0m\u001b[32;49mpip install --upgrade pip\u001b[0m\n",
      "Collecting git+https://github.com/MaximeJumelle/alepython\n",
      "  Cloning https://github.com/MaximeJumelle/alepython to /private/var/folders/bq/0xbpy3053mq68gyjgh6y8dkm0000gn/T/pip-req-build-5bv2kzih\n",
      "  Running command git clone --filter=blob:none --quiet https://github.com/MaximeJumelle/alepython /private/var/folders/bq/0xbpy3053mq68gyjgh6y8dkm0000gn/T/pip-req-build-5bv2kzih\n",
      "  Resolved https://github.com/MaximeJumelle/alepython to commit 286350ab674980a32270db2a0b5ccca1380312a7\n",
      "  Preparing metadata (setup.py) ... \u001b[?25ldone\n",
      "\u001b[?25hCollecting loguru>=0.4.1 (from alepython==0.1.dev17+g286350a)\n",
      "  Downloading loguru-0.7.3-py3-none-any.whl.metadata (22 kB)\n",
      "Requirement already satisfied: matplotlib>=2.2.3 in /opt/miniconda3/lib/python3.12/site-packages (from alepython==0.1.dev17+g286350a) (3.7.3)\n",
      "Requirement already satisfied: numpy>=1.15.4 in /opt/miniconda3/lib/python3.12/site-packages (from alepython==0.1.dev17+g286350a) (1.26.4)\n",
      "Requirement already satisfied: pandas>=0.22.0 in /opt/miniconda3/lib/python3.12/site-packages (from alepython==0.1.dev17+g286350a) (2.0.3)\n",
      "Requirement already satisfied: scipy>=1.1.0 in /opt/miniconda3/lib/python3.12/site-packages (from alepython==0.1.dev17+g286350a) (1.13.1)\n",
      "Requirement already satisfied: seaborn>=0.9.0 in /opt/miniconda3/lib/python3.12/site-packages (from alepython==0.1.dev17+g286350a) (0.13.2)\n",
      "Requirement already satisfied: contourpy>=1.0.1 in /opt/miniconda3/lib/python3.12/site-packages (from matplotlib>=2.2.3->alepython==0.1.dev17+g286350a) (1.3.0)\n",
      "Requirement already satisfied: cycler>=0.10 in /opt/miniconda3/lib/python3.12/site-packages (from matplotlib>=2.2.3->alepython==0.1.dev17+g286350a) (0.12.1)\n",
      "Requirement already satisfied: fonttools>=4.22.0 in /opt/miniconda3/lib/python3.12/site-packages (from matplotlib>=2.2.3->alepython==0.1.dev17+g286350a) (4.53.1)\n",
      "Requirement already satisfied: kiwisolver>=1.0.1 in /opt/miniconda3/lib/python3.12/site-packages (from matplotlib>=2.2.3->alepython==0.1.dev17+g286350a) (1.4.7)\n",
      "Requirement already satisfied: packaging>=20.0 in /opt/miniconda3/lib/python3.12/site-packages (from matplotlib>=2.2.3->alepython==0.1.dev17+g286350a) (24.1)\n",
      "Requirement already satisfied: pillow>=6.2.0 in /opt/miniconda3/lib/python3.12/site-packages (from matplotlib>=2.2.3->alepython==0.1.dev17+g286350a) (10.4.0)\n",
      "Requirement already satisfied: pyparsing>=2.3.1 in /opt/miniconda3/lib/python3.12/site-packages (from matplotlib>=2.2.3->alepython==0.1.dev17+g286350a) (3.1.4)\n",
      "Requirement already satisfied: python-dateutil>=2.7 in /opt/miniconda3/lib/python3.12/site-packages (from matplotlib>=2.2.3->alepython==0.1.dev17+g286350a) (2.9.0)\n",
      "Requirement already satisfied: pytz>=2020.1 in /opt/miniconda3/lib/python3.12/site-packages (from pandas>=0.22.0->alepython==0.1.dev17+g286350a) (2024.1)\n",
      "Requirement already satisfied: tzdata>=2022.1 in /opt/miniconda3/lib/python3.12/site-packages (from pandas>=0.22.0->alepython==0.1.dev17+g286350a) (2025.2)\n",
      "Requirement already satisfied: six>=1.5 in /opt/miniconda3/lib/python3.12/site-packages (from python-dateutil>=2.7->matplotlib>=2.2.3->alepython==0.1.dev17+g286350a) (1.16.0)\n",
      "Downloading loguru-0.7.3-py3-none-any.whl (61 kB)\n",
      "Building wheels for collected packages: alepython\n",
      "\u001b[33m  DEPRECATION: Building 'alepython' using the legacy setup.py bdist_wheel mechanism, which will be removed in a future version. pip 25.3 will enforce this behaviour change. A possible replacement is to use the standardized build interface by setting the `--use-pep517` option, (possibly combined with `--no-build-isolation`), or adding a `pyproject.toml` file to the source tree of 'alepython'. Discussion can be found at https://github.com/pypa/pip/issues/6334\u001b[0m\u001b[33m\n",
      "\u001b[0m  Building wheel for alepython (setup.py) ... \u001b[?25ldone\n",
      "\u001b[?25h  Created wheel for alepython: filename=alepython-0.1.dev17+g286350a-py3-none-any.whl size=15170 sha256=40621b094b93dd23148c1b7850c2b1b84778fe6f348a40d5525a5c0ec4ae3b8c\n",
      "  Stored in directory: /private/var/folders/bq/0xbpy3053mq68gyjgh6y8dkm0000gn/T/pip-ephem-wheel-cache-7t4wmvs_/wheels/fa/9a/ce/c88e90aaef944918bb7b91ba87244437f126e7ba603b5865d0\n",
      "Successfully built alepython\n",
      "Installing collected packages: loguru, alepython\n",
      "\u001b[2K   \u001b[90m━━━━━━━━━━━━━━━━━━━━━━━━━━━━━━━━━━━━━━━━\u001b[0m \u001b[32m2/2\u001b[0m [alepython]\n",
      "\u001b[1A\u001b[2KSuccessfully installed alepython-0.1.dev17+g286350a loguru-0.7.3\n",
      "\n",
      "\u001b[1m[\u001b[0m\u001b[34;49mnotice\u001b[0m\u001b[1;39;49m]\u001b[0m\u001b[39;49m A new release of pip is available: \u001b[0m\u001b[31;49m25.1\u001b[0m\u001b[39;49m -> \u001b[0m\u001b[32;49m25.2\u001b[0m\n",
      "\u001b[1m[\u001b[0m\u001b[34;49mnotice\u001b[0m\u001b[1;39;49m]\u001b[0m\u001b[39;49m To update, run: \u001b[0m\u001b[32;49mpip install --upgrade pip\u001b[0m\n"
     ]
    }
   ],
   "source": [
    "!pip install numpy pandas scikit-learn shap\n",
    "!pip install git+https://github.com/MaximeJumelle/alepython"
   ]
  },
  {
   "cell_type": "markdown",
   "metadata": {},
   "source": [
    "## Imports"
   ]
  },
  {
   "cell_type": "code",
   "execution_count": 7,
   "metadata": {},
   "outputs": [],
   "source": [
    "# Data\n",
    "import numpy as np\n",
    "import pandas as pd\n",
    "import matplotlib.pyplot as plt\n",
    "\n",
    "# Models\n",
    "import xgboost\n",
    "from sklearn.model_selection import train_test_split\n",
    "\n",
    "# XAI\n",
    "import shap\n",
    "from alepython import ale_plot\n",
    "from sklearn.inspection import PartialDependenceDisplay\n",
    "from sklearn.inspection import permutation_importance\n",
    "\n",
    "np.random.seed(1)"
   ]
  }
 ],
 "metadata": {
  "kernelspec": {
   "display_name": "base",
   "language": "python",
   "name": "python3"
  },
  "language_info": {
   "codemirror_mode": {
    "name": "ipython",
    "version": 3
   },
   "file_extension": ".py",
   "mimetype": "text/x-python",
   "name": "python",
   "nbconvert_exporter": "python",
   "pygments_lexer": "ipython3",
   "version": "3.12.6"
  }
 },
 "nbformat": 4,
 "nbformat_minor": 2
}
